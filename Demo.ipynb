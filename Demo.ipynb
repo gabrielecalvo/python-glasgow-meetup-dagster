{
 "cells": [
  {
   "cell_type": "code",
   "execution_count": null,
   "id": "ee763ac4-a2fe-4e8b-a9cf-ea64c5ab87eb",
   "metadata": {
    "tags": []
   },
   "outputs": [],
   "source": [
    "import datetime as dt\n",
    "import io\n",
    "\n",
    "import requests\n",
    "import dagster\n",
    "import pandas as pd\n",
    "import plotly\n",
    "import plotly.express as px\n",
    "from pathlib import Path"
   ]
  },
  {
   "cell_type": "markdown",
   "id": "3ec34adb-a878-418d-a832-e1520fe20076",
   "metadata": {},
   "source": [
    "## Local example setup\n",
    "We have a **fake source data server** running on http://localhost:8000 (using _python -m http.server 8000_)"
   ]
  },
  {
   "cell_type": "code",
   "execution_count": null,
   "id": "50e07fd3-b44c-4964-b76e-048683f56fc8",
   "metadata": {
    "tags": []
   },
   "outputs": [],
   "source": [
    "response = requests.get(\"http://localhost:8000/metadata.json\")\n",
    "response.json()"
   ]
  },
  {
   "cell_type": "code",
   "execution_count": null,
   "id": "b8b8965f-5945-450c-82ef-04376410f4ae",
   "metadata": {
    "tags": []
   },
   "outputs": [],
   "source": [
    "response = requests.get(\"http://localhost:8000/2023-01-01.csv\")\n",
    "pd.read_csv(io.BytesIO(response.content))"
   ]
  },
  {
   "cell_type": "markdown",
   "id": "872e9df3-d07d-41ab-b36c-a3010487489f",
   "metadata": {
    "tags": []
   },
   "source": [
    "## Custom Resources\n",
    "We can define our own resources to pass to the op."
   ]
  },
  {
   "cell_type": "code",
   "execution_count": null,
   "id": "25ae3453-82e9-4834-92ff-fe0d553d3554",
   "metadata": {
    "tags": []
   },
   "outputs": [],
   "source": [
    "class CoolApiClient:\n",
    "    def __init__(self, root_url: str):\n",
    "        self.root_url = root_url\n",
    "\n",
    "    def get_metadata(self) -> dict:\n",
    "        response = requests.get(f\"{self.root_url}/metadata.json\")\n",
    "        response.raise_for_status()\n",
    "        return response.json()\n",
    "\n",
    "    def get_month_data(self, month: str) -> pd.DataFrame:\n",
    "        response = requests.get(f\"{self.root_url}/{month}.csv\")\n",
    "        response.raise_for_status()\n",
    "        return pd.read_csv(io.BytesIO(response.content), parse_dates=[\"Timestamp\"])"
   ]
  },
  {
   "cell_type": "code",
   "execution_count": null,
   "id": "ba71cdd7-70df-46f5-b820-3d89ee0735e3",
   "metadata": {
    "tags": []
   },
   "outputs": [],
   "source": [
    "api_client = CoolApiClient(\"http://localhost:8000\")"
   ]
  },
  {
   "cell_type": "code",
   "execution_count": null,
   "id": "cb896306-02e0-4867-9077-05f6b3e0bdd1",
   "metadata": {
    "tags": []
   },
   "outputs": [],
   "source": [
    "api_client.get_metadata()"
   ]
  },
  {
   "cell_type": "code",
   "execution_count": null,
   "id": "df10e011-e6d5-480a-82c4-7f888eea0070",
   "metadata": {
    "tags": []
   },
   "outputs": [],
   "source": [
    "api_client.get_month_data(\"2023-01-01\")"
   ]
  },
  {
   "cell_type": "markdown",
   "id": "62d5f15e-7876-4e3c-b8f3-2e92babaa369",
   "metadata": {},
   "source": [
    "## Writing our Op"
   ]
  },
  {
   "cell_type": "code",
   "execution_count": null,
   "id": "b619f5c6-3ff5-49a4-9090-d481e42387ae",
   "metadata": {
    "tags": []
   },
   "outputs": [],
   "source": [
    "@dagster.op(required_resource_keys={\"api_client\"})\n",
    "def generate_monthly_summary(\n",
    "    context: dagster.OpExecutionContext,\n",
    "    month: str,\n",
    ") -> pd.Series:\n",
    "    # grab the custom resource from the context and use it to get data\n",
    "    api_client = context.resources.api_client\n",
    "    data = api_client.get_month_data(month)\n",
    "\n",
    "    # the context also has access to the dagster logger\n",
    "    context.log.debug(f\"retrieved {data.shape[0]} rows\")\n",
    "    \n",
    "    # our awesome business logic (monthly cumulative energy per turbine)\n",
    "    ser = (\n",
    "        data.groupby(\"TurbineName\")\n",
    "        [\"Power (kW)\"]\n",
    "        .sum()\n",
    "        .div(6) # kW-10min to kW-h\n",
    "        .rename(\"Energy (kWh)\")\n",
    "    )\n",
    "    \n",
    "    # returning the result directly, we'll handle the write using the `IOManager`\n",
    "    return ser"
   ]
  },
  {
   "cell_type": "markdown",
   "id": "bcb2e008-8d0f-459b-8d4f-2e5e77c08ee0",
   "metadata": {},
   "source": [
    "## Testing\n",
    "being able to inject dependencies makes the tests easy to setup, without need for patching"
   ]
  },
  {
   "cell_type": "code",
   "execution_count": null,
   "id": "f3cc67c1-02a5-401b-b316-e566a8664646",
   "metadata": {
    "tags": []
   },
   "outputs": [],
   "source": [
    "from unittest.mock import Mock\n",
    "\n",
    "def test_generate_monthly_summary():\n",
    "    # setup mocks\n",
    "    fake_data =  pd.DataFrame({\n",
    "        \"Timestamp\": pd.date_range(\"2023-01-01\", periods=3, freq=\"10Min\"),\n",
    "        \"TurbineName\": \"1\",\n",
    "        \"Wind speed (m/s)\": [5,2,3],\n",
    "        \"Power (kW)\": [500.,200.,300.],\n",
    "    })\n",
    "    mock_api_client = Mock(spec=CoolApiClient)\n",
    "    mock_api_client.get_month_data.return_value = fake_data\n",
    "    \n",
    "    # build the context with mocked resources\n",
    "    context = dagster.build_op_context(resources={\"api_client\": mock_api_client})\n",
    "    \n",
    "    # run the op with the mocked context\n",
    "    actual = generate_monthly_summary(context, month=\"2023-01-01\")\n",
    "    \n",
    "    # check results\n",
    "    expected_idx = pd.Series(\"1\", name=\"TurbineName\")\n",
    "    expected = pd.Series([1000/6], name=\"Energy (kWh)\", index=expected_idx)\n",
    "    pd.testing.assert_series_equal(actual, expected, check_freq=False)\n",
    "    \n",
    "test_generate_monthly_summary()"
   ]
  },
  {
   "cell_type": "markdown",
   "id": "76626747-a7ef-4396-a5f9-e7a116b0007f",
   "metadata": {},
   "source": [
    "## Local Run\n",
    "when using it against a real local resource we just need to pass a real instance of the api client"
   ]
  },
  {
   "cell_type": "code",
   "execution_count": null,
   "id": "cd2b8572-9f06-4328-85f1-712f8c4b6d30",
   "metadata": {
    "tags": []
   },
   "outputs": [],
   "source": [
    "local_api_client = CoolApiClient(root_url='http://localhost:8000')\n",
    "context = dagster.build_op_context(resources={\"api_client\": local_api_client})\n",
    "\n",
    "monthly_energy_df = generate_monthly_summary(context, month=\"2023-01-01\")\n",
    "\n",
    "monthly_energy_df"
   ]
  },
  {
   "cell_type": "markdown",
   "id": "d8f31d73-5bbf-4601-a04b-95d879119d1c",
   "metadata": {},
   "source": [
    "## Defining a second Op\n",
    "We'll define a second op that generates an image based on the output of the previous op"
   ]
  },
  {
   "cell_type": "code",
   "execution_count": null,
   "id": "6dfe37f5-abcc-4e79-b643-474cc28fe9b6",
   "metadata": {
    "tags": []
   },
   "outputs": [],
   "source": [
    "@dagster.op(required_resource_keys={\"api_client\"}, out=dagster.Out(io_manager_key=\"html_io_manager\"))\n",
    "def generate_map_visualisation(\n",
    "    context: dagster.OpExecutionContext,\n",
    "    monthly_energy_by_turbine: pd.Series,\n",
    ") -> str:\n",
    "    api_client = context.resources.api_client\n",
    "    metadata = api_client.get_metadata()\n",
    "\n",
    "    # preparing data for map\n",
    "    map_df = pd.concat(\n",
    "        [pd.DataFrame(metadata).set_index(\"TurbineName\"), monthly_energy_by_turbine], axis=1\n",
    "    ).reset_index()\n",
    "\n",
    "    # create map\n",
    "    fig = px.scatter_mapbox(\n",
    "        map_df,\n",
    "        lat=\"Latitude\",\n",
    "        lon=\"Longitude\",\n",
    "        hover_name=\"TurbineName\",\n",
    "        mapbox_style=\"open-street-map\",\n",
    "        zoom=12,\n",
    "        size=\"Energy (kWh)\",\n",
    "        color=\"Energy (kWh)\",\n",
    "    )\n",
    "\n",
    "    return fig.to_html()"
   ]
  },
  {
   "cell_type": "markdown",
   "id": "a0673a3b-2a41-49df-a059-f5a104b700bd",
   "metadata": {},
   "source": [
    "## Defining a custom IOManager"
   ]
  },
  {
   "cell_type": "code",
   "execution_count": null,
   "id": "b5e817cc-d3ae-4a36-a1bc-c1d3c5d0f471",
   "metadata": {
    "tags": []
   },
   "outputs": [],
   "source": [
    "class MyLocalHtmlIoManager(dagster.IOManager):\n",
    "    def __init__(self, directory: Path):\n",
    "        self.directory = directory\n",
    "\n",
    "    def handle_output(self, context: dagster.OutputContext, obj: str) -> None:\n",
    "        fp = Path(self.directory) / \"viz.html\"\n",
    "        with open(fp, \"w\", encoding=\"utf8\") as f:\n",
    "            f.write(obj)\n",
    "        context.log.info(f\"HTML file stored here: {fp}\")\n",
    "\n",
    "    def load_input(self, context: dagster.InputContext) -> None:\n",
    "        raise NotImplementedError()"
   ]
  },
  {
   "cell_type": "markdown",
   "id": "1d5881c9-db4e-4890-80dc-c487bdf0c8ce",
   "metadata": {},
   "source": [
    "# Define the graph and job"
   ]
  },
  {
   "cell_type": "code",
   "execution_count": null,
   "id": "5af5a51f-103d-4da8-a665-0f77c7cc5c82",
   "metadata": {
    "tags": []
   },
   "outputs": [],
   "source": [
    "@dagster.graph\n",
    "def my_processing_graph() -> None:\n",
    "    energy_df = generate_monthly_summary()\n",
    "    generate_map_visualisation(monthly_energy_by_turbine=energy_df)"
   ]
  },
  {
   "cell_type": "code",
   "execution_count": null,
   "id": "34a932bd-52d6-45f7-8ecc-926f8d6a5120",
   "metadata": {
    "tags": []
   },
   "outputs": [],
   "source": [
    "processing_job = my_processing_graph.to_job(\n",
    "    resource_defs={\n",
    "        \"api_client\": local_api_client,\n",
    "        \"html_io_manager\": MyLocalHtmlIoManager(directory=\"./data/output-viz\"),\n",
    "    }\n",
    ")"
   ]
  },
  {
   "cell_type": "markdown",
   "id": "b95c5e36-c950-422b-b322-45e6ff084932",
   "metadata": {},
   "source": [
    "we can even run it in process memory to see there are no failures"
   ]
  },
  {
   "cell_type": "code",
   "execution_count": null,
   "id": "931b22d3-bf4a-4326-9931-f352ee6da978",
   "metadata": {
    "tags": []
   },
   "outputs": [],
   "source": [
    "result = processing_job.execute_in_process(\n",
    "    run_config={'ops': {'generate_monthly_summary': {'inputs': {'month': '2023-01-01'}}}}\n",
    ")"
   ]
  },
  {
   "cell_type": "code",
   "execution_count": null,
   "id": "f01001c3-fcaa-4240-9da2-46c1f2e22e03",
   "metadata": {
    "tags": []
   },
   "outputs": [],
   "source": [
    "from IPython.display import HTML\n",
    "\n",
    "HTML(\"./data/output-viz/viz.html\")\n",
    "# which is the same as `HTML(result.output_for_node('generate_map_visualisation'))`"
   ]
  },
  {
   "cell_type": "markdown",
   "id": "182b62a0-e203-4c69-9b82-178b1dc91c9a",
   "metadata": {
    "tags": []
   },
   "source": [
    "## Schedules \n",
    "you can create an define schedule to run the job by defining a ScheduleDefinition.\n",
    "\n",
    "You can use cron syntax \"0 0 * * *\" but it also accepts \"@hourly\", \"@daily\", \"@weekly\", and \"@monthly\"\n",
    "\n",
    "**NOTE**: you need the dagster-deamon running"
   ]
  },
  {
   "cell_type": "code",
   "execution_count": null,
   "id": "a87f9f57-cf24-413a-b49c-e1f5a6234ba7",
   "metadata": {
    "tags": []
   },
   "outputs": [],
   "source": [
    "dagster.ScheduleDefinition(job=processing_job, cron_schedule=\"@monthly\", execution_timezone=\"UTC\")"
   ]
  },
  {
   "cell_type": "markdown",
   "id": "5a677f46-56f2-45aa-a59a-e8d67faca276",
   "metadata": {},
   "source": [
    "## Partitions & Hooks"
   ]
  },
  {
   "cell_type": "code",
   "execution_count": null,
   "id": "ab80eeef-b87d-442d-a7e1-135a96fbf02f",
   "metadata": {
    "tags": []
   },
   "outputs": [],
   "source": [
    "@dagster.monthly_partitioned_config(start_date=dt.datetime(2023, 1, 1))\n",
    "def my_partitioned_config(start: dt.datetime, _end: dt.datetime) -> dict:\n",
    "    return {\"ops\": {\"generate_monthly_summary\": {\"inputs\": {\"month\": start.strftime(\"%Y-%m-%d\")}}}}"
   ]
  },
  {
   "cell_type": "code",
   "execution_count": null,
   "id": "e3c1f9c5-bc54-4d34-8b75-8569025ddd6f",
   "metadata": {
    "tags": []
   },
   "outputs": [],
   "source": [
    "@dagster.failure_hook(required_resource_keys={\"slack\"})\n",
    "def slack_message_on_failure(context: dagster.HookContext) -> None:\n",
    "    context.resources.slack.get_client().chat_postMessage(\n",
    "        channel=\"#demo\",\n",
    "        text=FAILURE_MESSAGE_TEMPLATE.format(context=context),\n",
    "    )"
   ]
  },
  {
   "cell_type": "code",
   "execution_count": null,
   "id": "bf58c3d7-33ae-48bd-8cab-cfbd2d4fd843",
   "metadata": {
    "tags": []
   },
   "outputs": [],
   "source": [
    "from dagster_slack import SlackResource  # <-- one of the many pre-written integrations\n",
    "\n",
    "my_processing_graph.to_job(\n",
    "    config=my_partitioned_config,       # new\n",
    "    hooks={slack_message_on_failure},   # new\n",
    "    resource_defs={\n",
    "        \"slack\": SlackResource(token=dagster.EnvVar(\"SLACK_TOKEN\")),  # new\n",
    "        \"api_client\": local_api_client,\n",
    "        \"html_io_manager\": MyLocalHtmlIoManager(directory=\"./data/output-viz\"),\n",
    "    },\n",
    ")"
   ]
  },
  {
   "cell_type": "markdown",
   "id": "268f19de-e3d9-484d-bdb6-5de2b10272e7",
   "metadata": {},
   "source": [
    "## What about the UI?\n",
    "to demo partitions and failure hooks it might be easier to jump to the UI..\n",
    "http://localhost:3000/locations/windy/jobs/my_processing_graph"
   ]
  },
  {
   "cell_type": "code",
   "execution_count": null,
   "id": "e176bc50-0cde-462b-8e64-d05abcbdc0e0",
   "metadata": {},
   "outputs": [],
   "source": []
  }
 ],
 "metadata": {
  "kernelspec": {
   "display_name": "Python 3 (ipykernel)",
   "language": "python",
   "name": "python3"
  },
  "language_info": {
   "codemirror_mode": {
    "name": "ipython",
    "version": 3
   },
   "file_extension": ".py",
   "mimetype": "text/x-python",
   "name": "python",
   "nbconvert_exporter": "python",
   "pygments_lexer": "ipython3",
   "version": "3.10.10"
  }
 },
 "nbformat": 4,
 "nbformat_minor": 5
}
